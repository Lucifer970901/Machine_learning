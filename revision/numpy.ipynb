{
 "cells": [
  {
   "cell_type": "markdown",
   "id": "0b9f20a1",
   "metadata": {},
   "source": [
    "**Numpy** in short numerical python is library used for scientific computation, it provides tools to work with multi dimensional arrays and matrices."
   ]
  },
  {
   "cell_type": "code",
   "execution_count": 1,
   "id": "e006c1e7",
   "metadata": {},
   "outputs": [
    {
     "name": "stdout",
     "output_type": "stream",
     "text": [
      "2.2.6\n"
     ]
    }
   ],
   "source": [
    "import numpy as np\n",
    "print(np.__version__)"
   ]
  },
  {
   "cell_type": "code",
   "execution_count": 2,
   "id": "2d3b1a81",
   "metadata": {},
   "outputs": [
    {
     "name": "stdout",
     "output_type": "stream",
     "text": [
      "[1 2 3 4 5 6]\n"
     ]
    }
   ],
   "source": [
    "arr = np.array([1,2,3,4,5,6]) #1d array\n",
    "print(arr)"
   ]
  },
  {
   "cell_type": "code",
   "execution_count": 3,
   "id": "41b96de2",
   "metadata": {},
   "outputs": [
    {
     "name": "stdout",
     "output_type": "stream",
     "text": [
      "42\n",
      "[1 2 3 4 5]\n",
      "[[1 2 3]\n",
      " [4 5 6]]\n"
     ]
    }
   ],
   "source": [
    "arr1 = np.array(42) #0d array\n",
    "print(arr1)\n",
    "arr2  = np.array([1,2,3,4,5]) #1d array\n",
    "print(arr2)\n",
    "arr3 = np.array([[1,2,3],[4,5,6]]) #2d array\n",
    "print(arr3)"
   ]
  },
  {
   "cell_type": "markdown",
   "id": "4b93c595",
   "metadata": {},
   "source": [
    "we use **ndim** function to get the dimension of the array, similarly we can define the dimensions that we want to create the array"
   ]
  },
  {
   "cell_type": "code",
   "execution_count": 9,
   "id": "4c59e484",
   "metadata": {},
   "outputs": [
    {
     "name": "stdout",
     "output_type": "stream",
     "text": [
      "2\n",
      "5 [[[[[1 2 3 4]]]]]\n"
     ]
    }
   ],
   "source": [
    "print(arr3.ndim)\n",
    "arr4 = np.array([1,2,3,4], ndmin = 5)\n",
    "print(arr4.ndim,arr4)"
   ]
  },
  {
   "cell_type": "code",
   "execution_count": 15,
   "id": "9f15a8d8",
   "metadata": {},
   "outputs": [
    {
     "name": "stdout",
     "output_type": "stream",
     "text": [
      "[4 5 6]\n",
      "[7 8 9]\n",
      "6\n",
      "11\n"
     ]
    }
   ],
   "source": [
    "arr5 = np.array([[[1,2,3],[4,5,6]],[[7,8,9],[10,11,12]]])\n",
    "print(arr5[0,1])\n",
    "print(arr5[1,0])\n",
    "print(arr5[0,1,2])\n",
    "print(arr5[1,1,1])"
   ]
  },
  {
   "cell_type": "markdown",
   "id": "1199efd6",
   "metadata": {},
   "source": [
    "Slicing the array in python"
   ]
  },
  {
   "cell_type": "code",
   "execution_count": 16,
   "id": "4347493e",
   "metadata": {},
   "outputs": [
    {
     "name": "stdout",
     "output_type": "stream",
     "text": [
      "[2 3 4 5]\n",
      "[1 2 3 4]\n",
      "[5 6 7]\n",
      "[5 6]\n",
      "[2 4]\n",
      "[1 3 5 7]\n"
     ]
    }
   ],
   "source": [
    "arr6 = np.array([1,2,3,4,5,6,7])\n",
    "print(arr6[1:5])\n",
    "print(arr6[:4])\n",
    "print(arr6[4:])\n",
    "print(arr6[-3:-1])\n",
    "print(arr6[1:5:2])\n",
    "print(arr6[::2])"
   ]
  },
  {
   "cell_type": "code",
   "execution_count": null,
   "id": "fbb95de8",
   "metadata": {},
   "outputs": [
    {
     "name": "stdout",
     "output_type": "stream",
     "text": [
      "[3 8]\n",
      "[[2 3]\n",
      " [7 8]]\n"
     ]
    }
   ],
   "source": [
    "arr = np.array([[1,2,3,4,5],[6,7,8,9,10]])\n",
    "print(arr[0:2,2]) # here for columns it will pick single index 2 from row 0 and row1\n",
    "print(arr[0:2,1:3]) # here 0:2 is for rows and 1:3 is for columns"
   ]
  },
  {
   "cell_type": "markdown",
   "id": "5f9f8280",
   "metadata": {},
   "source": [
    "array operations using numpy"
   ]
  },
  {
   "cell_type": "code",
   "execution_count": 19,
   "id": "10d44461",
   "metadata": {},
   "outputs": [
    {
     "name": "stdout",
     "output_type": "stream",
     "text": [
      "[[1 2 5 6]\n",
      " [4 5 7 8]]\n"
     ]
    }
   ],
   "source": [
    "arr1 = np.array([[1,2],[4,5]])\n",
    "arr2 = np.array([[5,6],[7,8]])\n",
    "arr5 = np.concatenate((arr1,arr2),axis= 1)\n",
    "print(arr5)"
   ]
  },
  {
   "cell_type": "code",
   "execution_count": 24,
   "id": "18135cc5",
   "metadata": {},
   "outputs": [
    {
     "name": "stdout",
     "output_type": "stream",
     "text": [
      "[array([1, 2]), array([3, 4]), array([5])]\n"
     ]
    }
   ],
   "source": [
    "arr6 = np.array([1,2,3,4,5])\n",
    "arr7 = np.array_split(arr6,3) # splits the array into 3 parts\n",
    "print(arr7)"
   ]
  },
  {
   "cell_type": "code",
   "execution_count": 25,
   "id": "1bb99830",
   "metadata": {},
   "outputs": [
    {
     "name": "stdout",
     "output_type": "stream",
     "text": [
      "[1 2]\n",
      "2\n"
     ]
    }
   ],
   "source": [
    "print(arr7[0])\n",
    "print(arr7[0][1])"
   ]
  },
  {
   "cell_type": "code",
   "execution_count": null,
   "id": "60db7344",
   "metadata": {},
   "outputs": [],
   "source": []
  }
 ],
 "metadata": {
  "kernelspec": {
   "display_name": "Python 3",
   "language": "python",
   "name": "python3"
  },
  "language_info": {
   "codemirror_mode": {
    "name": "ipython",
    "version": 3
   },
   "file_extension": ".py",
   "mimetype": "text/x-python",
   "name": "python",
   "nbconvert_exporter": "python",
   "pygments_lexer": "ipython3",
   "version": "3.13.3"
  }
 },
 "nbformat": 4,
 "nbformat_minor": 5
}
