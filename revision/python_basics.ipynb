{
 "cells": [
  {
   "cell_type": "markdown",
   "id": "b3481707",
   "metadata": {},
   "source": [
    "Let's start with Basics of python.  \n",
    "\n",
    "if you want to print any statements in python you use the following"
   ]
  },
  {
   "cell_type": "code",
   "execution_count": 1,
   "id": "f64e1497",
   "metadata": {},
   "outputs": [
    {
     "name": "stdout",
     "output_type": "stream",
     "text": [
      "Hello World!\n"
     ]
    }
   ],
   "source": [
    "print(\"Hello World!\")"
   ]
  },
  {
   "cell_type": "markdown",
   "id": "215bf6cb",
   "metadata": {},
   "source": [
    "**Variables in Python**\n",
    "\n",
    "these are used to define symbolic names that are used to store values in python.\n",
    "\n",
    "**DataTypes in Python**\n",
    "\n",
    "there are datatypes in python represented by types() like int, float, str, list, bool, complex etc\n",
    "here are few examples for that."
   ]
  },
  {
   "cell_type": "code",
   "execution_count": 2,
   "id": "020e82ed",
   "metadata": {},
   "outputs": [
    {
     "data": {
      "text/plain": [
       "int"
      ]
     },
     "execution_count": 2,
     "metadata": {},
     "output_type": "execute_result"
    }
   ],
   "source": [
    "x = 5\n",
    "type(x)"
   ]
  },
  {
   "cell_type": "code",
   "execution_count": 3,
   "id": "7bfdee0c",
   "metadata": {},
   "outputs": [
    {
     "name": "stdout",
     "output_type": "stream",
     "text": [
      "<class 'float'> 10.0\n",
      "<class 'int'> 2\n",
      "<class 'complex'> (1+0j)\n"
     ]
    }
   ],
   "source": [
    "x= 10\n",
    "a = float(x)\n",
    "y = 2.312\n",
    "b = int(y)\n",
    "z = 1\n",
    "c = complex(z)\n",
    "print(type(a),a)\n",
    "print(type(b),b)\n",
    "print(type(c),c)"
   ]
  },
  {
   "cell_type": "markdown",
   "id": "b6dd819d",
   "metadata": {},
   "source": [
    "This is called **type casting** where you can convert the type of the value from one datatype to another. However you cannot convert a string to float or int and vice versa. you might get value error as string cannot be represented as number."
   ]
  },
  {
   "cell_type": "markdown",
   "id": "3ff22652",
   "metadata": {},
   "source": [
    "We can also use **random()** function to generate random values in python "
   ]
  },
  {
   "cell_type": "code",
   "execution_count": 4,
   "id": "2f97216f",
   "metadata": {},
   "outputs": [
    {
     "name": "stdout",
     "output_type": "stream",
     "text": [
      "6\n"
     ]
    }
   ],
   "source": [
    "import random\n",
    "print(random.randrange(1,10))"
   ]
  },
  {
   "cell_type": "markdown",
   "id": "74569bfe",
   "metadata": {},
   "source": [
    "**Length** function is used to determine the number of  items present in an object or variable in python.\n",
    "\n",
    "You can use len() to get the length of the variable, especially used with string, list,tuples, dictionary, sets etc\n",
    "\n",
    "it also takes spaces btw the words into consideration while counting!"
   ]
  },
  {
   "cell_type": "code",
   "execution_count": 5,
   "id": "e6f1dea9",
   "metadata": {},
   "outputs": [
    {
     "name": "stdout",
     "output_type": "stream",
     "text": [
      "14\n"
     ]
    }
   ],
   "source": [
    "str1 = \"this is a cat!\"\n",
    "print(len(str1))"
   ]
  },
  {
   "cell_type": "markdown",
   "id": "7de849cf",
   "metadata": {},
   "source": [
    "**Conditional statements in python**\n",
    "\n",
    "we have if, elif, else statements in python. these are used to execute the certain blocks of code if the condition is satisfied.\n",
    "\n"
   ]
  },
  {
   "cell_type": "markdown",
   "id": "d65313b8",
   "metadata": {},
   "source": []
  },
  {
   "cell_type": "code",
   "execution_count": 1,
   "id": "80609a94",
   "metadata": {},
   "outputs": [
    {
     "name": "stdout",
     "output_type": "stream",
     "text": [
      "free is present in statement\n"
     ]
    }
   ],
   "source": [
    "x = 'This is available for free!'\n",
    "txt = 'free'\n",
    "if txt in x:\n",
    "    print(f\"{txt} is present in statement\")\n",
    "else:\n",
    "    print(f\"{txt} is not present in statement\")"
   ]
  },
  {
   "cell_type": "code",
   "execution_count": 3,
   "id": "08fdd9e2",
   "metadata": {},
   "outputs": [
    {
     "name": "stdout",
     "output_type": "stream",
     "text": [
      "you are an adult\n"
     ]
    }
   ],
   "source": [
    "age = int(input(\"enter the age: \"))\n",
    "if age >= 18:\n",
    "    print(\"you are an adult\")\n",
    "elif age < 10:\n",
    "    print(\"you are a child!\")\n",
    "else:\n",
    "    print(\"You are a teen\")"
   ]
  },
  {
   "cell_type": "code",
   "execution_count": 5,
   "id": "bff73ef8",
   "metadata": {},
   "outputs": [
    {
     "name": "stdout",
     "output_type": "stream",
     "text": [
      "B\n",
      "B\n"
     ]
    }
   ],
   "source": [
    "a = 2\n",
    "b = 330\n",
    "print('A') if a > 200 else print('B') #one liner if else statement\n",
    "print('A') if a > b else print('=') if a == b else print('B')"
   ]
  },
  {
   "cell_type": "markdown",
   "id": "ec0f4c88",
   "metadata": {},
   "source": [
    "you  can use **pass or continue** statements if you want the code block to continue with the flow regardless of the conditions.\n",
    "\n",
    "you can use **break** statement if you want to  interrupt the execution of the flow of the code"
   ]
  },
  {
   "cell_type": "code",
   "execution_count": 6,
   "id": "127cec6b",
   "metadata": {},
   "outputs": [
    {
     "name": "stdout",
     "output_type": "stream",
     "text": [
      "1\n",
      "2\n",
      "3\n"
     ]
    }
   ],
   "source": [
    "i=1\n",
    "while i<6:\n",
    "    print(i)\n",
    "    i += 1\n",
    "    if i == 4: break\n",
    "    "
   ]
  },
  {
   "cell_type": "code",
   "execution_count": 8,
   "id": "2cb8252e",
   "metadata": {},
   "outputs": [
    {
     "name": "stdout",
     "output_type": "stream",
     "text": [
      "1\n",
      "2\n",
      "3\n",
      "4\n",
      "5\n",
      "6\n",
      "7 is no longer less than 7\n"
     ]
    }
   ],
   "source": [
    "i = 1\n",
    "while i<7:\n",
    "    print(i)\n",
    "    i = i+1\n",
    "else:\n",
    "    print(f\"{i} is no longer less than 7\")\n"
   ]
  },
  {
   "cell_type": "code",
   "execution_count": null,
   "id": "8d61da43",
   "metadata": {},
   "outputs": [],
   "source": []
  }
 ],
 "metadata": {
  "kernelspec": {
   "display_name": "Python 3",
   "language": "python",
   "name": "python3"
  },
  "language_info": {
   "codemirror_mode": {
    "name": "ipython",
    "version": 3
   },
   "file_extension": ".py",
   "mimetype": "text/x-python",
   "name": "python",
   "nbconvert_exporter": "python",
   "pygments_lexer": "ipython3",
   "version": "3.13.3"
  }
 },
 "nbformat": 4,
 "nbformat_minor": 5
}
