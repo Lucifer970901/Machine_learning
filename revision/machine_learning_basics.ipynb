{
 "cells": [
  {
   "cell_type": "markdown",
   "id": "c4af4aad",
   "metadata": {},
   "source": [
    "**Machine Learning**\n",
    "\n",
    "this is a branch of artifical intelligence (AI), that focuses development of models and algorithms that allows computers to learn from data without explicitly programmed."
   ]
  },
  {
   "cell_type": "markdown",
   "id": "033ddfd8",
   "metadata": {},
   "source": [
    "**Machine learning types:**\n",
    "\n",
    "**Supervised learning** : You give the computer lots of examples that already have the right answers (like flashcards where you know the answer on the back). The computer learns from these examples to predict the answer for new, similar questions.\n",
    "\n",
    "Examples:\n",
    "\n",
    ". Classification: Is this email spam or not spam? (Predicting a category)\n",
    "\n",
    ". Regression: How much will this house cost? (Predicting a number)\n",
    "\n",
    "**Unsupervised learning** :  You give the computer data that doesn't have any labels or answers. The computer tries to find hidden patterns, groups, or structures on its own.\n",
    "\n",
    "Examples:\n",
    "\n",
    ". Clustering: Grouping your customers into different types based on their shopping habits.\n",
    "\n",
    ". Finding connections: Seeing which items are often bought together (like bread and butter).\n",
    "\n",
    "**reinforcement learning** : The computer (the \"agent\") tries different actions in an environment. If it does something good, it gets a \"reward.\" If it does something bad, it gets a \"penalty.\" It learns over time which actions are best to get the most rewards.\n",
    "\n",
    ". When to use: When you want the computer to learn how to make decisions in a changing environment.\n",
    "\n",
    ". Examples: Training a robot to walk, an AI learning to play video games, self-driving cars figuring out how to navigate.\n",
    "\n",
    "**Semi-Supervised Learning** : Uses a mix of some data with answers and a lot more data without answers to learn more effectively.\n",
    "\n",
    "**Transfer Learning** : Taking a brainy model that's already learned a lot about one big task (like recognizing general objects) and then quickly teaching it a slightly different, more specific task (like recognizing only cats and dogs)."
   ]
  },
  {
   "cell_type": "markdown",
   "id": "1131e2f3",
   "metadata": {},
   "source": [
    "**key steps in machine learning lifecycle/pipeline**:\n",
    "\n",
    "1) data collection\n",
    "\n",
    "2) data pre processing\n",
    "\n",
    "3) feature engineering - converting data so algo can understand, one hot encoding,and NLP techniques\n",
    "\n",
    "4) model selection\n",
    "\n",
    "5) training - divide the data for training and testing\n",
    "\n",
    "6) evaluation - test the model on unseen data,\n",
    "\n",
    "7) deployment - use the model for realtime applications"
   ]
  },
  {
   "cell_type": "markdown",
   "id": "a911ce82",
   "metadata": {},
   "source": [
    "**Machine learing mathematical operations on data using numpy and scipy**"
   ]
  },
  {
   "cell_type": "code",
   "execution_count": 3,
   "id": "f377a96a",
   "metadata": {},
   "outputs": [
    {
     "data": {
      "text/plain": [
       "np.float64(89.16666666666667)"
      ]
     },
     "execution_count": 3,
     "metadata": {},
     "output_type": "execute_result"
    }
   ],
   "source": [
    "import numpy as np\n",
    "speed = [99,86,88,111,86,103,87,78,84,77,85,86]\n",
    "np.mean(speed) #returns the average of array elements"
   ]
  },
  {
   "cell_type": "code",
   "execution_count": 4,
   "id": "2daf57d8",
   "metadata": {},
   "outputs": [
    {
     "data": {
      "text/plain": [
       "np.float64(86.0)"
      ]
     },
     "execution_count": 4,
     "metadata": {},
     "output_type": "execute_result"
    }
   ],
   "source": [
    "np.median(speed)"
   ]
  },
  {
   "cell_type": "code",
   "execution_count": 5,
   "id": "64bf9899",
   "metadata": {},
   "outputs": [
    {
     "data": {
      "text/plain": [
       "ModeResult(mode=np.int64(86), count=np.int64(3))"
      ]
     },
     "execution_count": 5,
     "metadata": {},
     "output_type": "execute_result"
    }
   ],
   "source": [
    "from scipy import stats\n",
    "stats.mode(speed)"
   ]
  },
  {
   "cell_type": "markdown",
   "id": "b2207b26",
   "metadata": {},
   "source": [
    "this shows most of the values in tha array are close to mean or median."
   ]
  },
  {
   "cell_type": "code",
   "execution_count": 6,
   "id": "c764852a",
   "metadata": {},
   "outputs": [
    {
     "data": {
      "text/plain": [
       "np.float64(9.650849127868952)"
      ]
     },
     "execution_count": 6,
     "metadata": {},
     "output_type": "execute_result"
    }
   ],
   "source": [
    "np.std(speed)"
   ]
  },
  {
   "cell_type": "code",
   "execution_count": 7,
   "id": "84b307a2",
   "metadata": {},
   "outputs": [
    {
     "data": {
      "text/plain": [
       "np.float64(93.1388888888889)"
      ]
     },
     "execution_count": 7,
     "metadata": {},
     "output_type": "execute_result"
    }
   ],
   "source": [
    "np.var(speed) #square root of variance - you get standard deviation"
   ]
  },
  {
   "cell_type": "code",
   "execution_count": 8,
   "id": "aacef067",
   "metadata": {},
   "outputs": [
    {
     "name": "stdout",
     "output_type": "stream",
     "text": [
      "1432.2448979591834\n",
      "37.84501153334721\n"
     ]
    }
   ],
   "source": [
    "speed = [32,111,138,28,59,77,97]\n",
    "x = np.var(speed)\n",
    "y = np.std(speed)\n",
    "print(x)\n",
    "print(y)"
   ]
  },
  {
   "cell_type": "markdown",
   "id": "5b570df0",
   "metadata": {},
   "source": [
    "percentile - if x has received 90 percentile, that means x has surpassed 90% of other candidates to receive that."
   ]
  },
  {
   "cell_type": "code",
   "execution_count": null,
   "id": "e15a747d",
   "metadata": {},
   "outputs": [
    {
     "name": "stdout",
     "output_type": "stream",
     "text": [
      "40.0\n"
     ]
    }
   ],
   "source": [
    "age = [5,31,43,50,41,7,11,15,39,80,32,2,8,6,25,36,27,61,31]\n",
    "x = np.percentile(age, 75)\n",
    "print(x) #40 numbers are less than 75"
   ]
  },
  {
   "cell_type": "code",
   "execution_count": null,
   "id": "e937dd79",
   "metadata": {},
   "outputs": [],
   "source": []
  }
 ],
 "metadata": {
  "kernelspec": {
   "display_name": "Python 3",
   "language": "python",
   "name": "python3"
  },
  "language_info": {
   "codemirror_mode": {
    "name": "ipython",
    "version": 3
   },
   "file_extension": ".py",
   "mimetype": "text/x-python",
   "name": "python",
   "nbconvert_exporter": "python",
   "pygments_lexer": "ipython3",
   "version": "3.13.3"
  }
 },
 "nbformat": 4,
 "nbformat_minor": 5
}
