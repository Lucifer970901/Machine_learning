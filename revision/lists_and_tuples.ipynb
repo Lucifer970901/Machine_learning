{
 "cells": [
  {
   "cell_type": "markdown",
   "id": "26f7a3aa",
   "metadata": {},
   "source": [
    "**Lists** in python are ordered, mutable collection of items. items in a list can be of different datatypes."
   ]
  },
  {
   "cell_type": "code",
   "execution_count": 9,
   "id": "2941212f",
   "metadata": {},
   "outputs": [
    {
     "data": {
      "text/plain": [
       "['apple', 'orange', 'banana', 'peach', 'grapes']"
      ]
     },
     "execution_count": 9,
     "metadata": {},
     "output_type": "execute_result"
    }
   ],
   "source": [
    "list1 = ['apple','orange','banana','peach','grapes']\n",
    "list1"
   ]
  },
  {
   "cell_type": "code",
   "execution_count": 10,
   "id": "e7ffa6f0",
   "metadata": {},
   "outputs": [
    {
     "name": "stdout",
     "output_type": "stream",
     "text": [
      "<class 'list'>\n",
      "5\n"
     ]
    }
   ],
   "source": [
    "print(type(list1))\n",
    "print(len(list1))"
   ]
  },
  {
   "cell_type": "markdown",
   "id": "69147537",
   "metadata": {},
   "source": [
    "Slicing the list: index where the list ends is omitted (exclusive)"
   ]
  },
  {
   "cell_type": "code",
   "execution_count": 11,
   "id": "96b5b807",
   "metadata": {},
   "outputs": [
    {
     "name": "stdout",
     "output_type": "stream",
     "text": [
      "['banana', 'peach']\n",
      "['apple', 'orange', 'banana', 'peach']\n",
      "['banana', 'peach', 'grapes']\n"
     ]
    }
   ],
   "source": [
    "print(list1[2:4])\n",
    "print(list1[:4])\n",
    "print(list1[2:])"
   ]
  },
  {
   "cell_type": "code",
   "execution_count": 12,
   "id": "75e45cb6",
   "metadata": {},
   "outputs": [
    {
     "name": "stdout",
     "output_type": "stream",
     "text": [
      "Yes\n"
     ]
    }
   ],
   "source": [
    "if 'apple' in list1:\n",
    "    print(\"Yes\")"
   ]
  },
  {
   "cell_type": "markdown",
   "id": "10c22b4d",
   "metadata": {},
   "source": [
    "**Append** function is used to add the items at the end of the list, while **insert** is used to add at certain index in the list"
   ]
  },
  {
   "cell_type": "code",
   "execution_count": 13,
   "id": "52ed7d0a",
   "metadata": {},
   "outputs": [
    {
     "name": "stdout",
     "output_type": "stream",
     "text": [
      "['apple', 'orange', 'banana', 'peach', 'grapes', 'kiwi']\n"
     ]
    }
   ],
   "source": [
    "list1.append('kiwi')\n",
    "print(list1)"
   ]
  },
  {
   "cell_type": "code",
   "execution_count": 14,
   "id": "4574bb28",
   "metadata": {},
   "outputs": [
    {
     "name": "stdout",
     "output_type": "stream",
     "text": [
      "['apple', 'orange', 'strawberry', 'banana', 'peach', 'grapes', 'kiwi']\n"
     ]
    }
   ],
   "source": [
    "list1.insert(2,'strawberry')\n",
    "print(list1)"
   ]
  },
  {
   "cell_type": "code",
   "execution_count": null,
   "id": "1cd65940",
   "metadata": {},
   "outputs": [
    {
     "name": "stdout",
     "output_type": "stream",
     "text": [
      "['apple', 'blackcurrent', 'watermelon', 'banana', 'peach', 'grapes', 'kiwi']\n"
     ]
    }
   ],
   "source": [
    "list1[1:3] = ['blackcurrent','watermelon'] # here we are replacing the values within the list\n",
    "print(list1)"
   ]
  },
  {
   "cell_type": "markdown",
   "id": "2a2f48aa",
   "metadata": {},
   "source": [
    "**Tuples** are ordered immutable collection of items, once its defined it cannot be changed"
   ]
  },
  {
   "cell_type": "code",
   "execution_count": 28,
   "id": "96537d6d",
   "metadata": {},
   "outputs": [
    {
     "name": "stdout",
     "output_type": "stream",
     "text": [
      "('emerald', 'ametheyst', 'peridot')\n",
      "3\n",
      "<class 'tuple'>\n"
     ]
    }
   ],
   "source": [
    "tuple1 = ('emerald', 'ametheyst','peridot')\n",
    "print(tuple1)\n",
    "print(len(tuple1))\n",
    "print(type(tuple1))"
   ]
  },
  {
   "cell_type": "code",
   "execution_count": 29,
   "id": "5197da56",
   "metadata": {},
   "outputs": [
    {
     "name": "stdout",
     "output_type": "stream",
     "text": [
      "<class 'tuple'>\n",
      "('garnet', 'opal', 'ruby', 'topaz')\n"
     ]
    }
   ],
   "source": [
    "tuple2 = tuple(['garnet', 'opal','ruby','topaz'])\n",
    "print(type(tuple2))\n",
    "print(tuple2)"
   ]
  },
  {
   "cell_type": "code",
   "execution_count": 30,
   "id": "b8bb19a8",
   "metadata": {},
   "outputs": [
    {
     "name": "stdout",
     "output_type": "stream",
     "text": [
      "peridot\n",
      "('emerald', 'ametheyst', 'peridot', 'garnet', 'opal', 'ruby', 'topaz')\n",
      "('emerald', 'ametheyst', 'peridot', 'emerald', 'ametheyst', 'peridot')\n"
     ]
    }
   ],
   "source": [
    "print(tuple1[-1]) # returns the last element\n",
    "tuple3 = tuple1 + tuple2\n",
    "print(tuple3)\n",
    "tuple4 = tuple1 * 2\n",
    "print(tuple4)"
   ]
  },
  {
   "cell_type": "code",
   "execution_count": null,
   "id": "d7f23758",
   "metadata": {},
   "outputs": [],
   "source": []
  }
 ],
 "metadata": {
  "kernelspec": {
   "display_name": "Python 3",
   "language": "python",
   "name": "python3"
  },
  "language_info": {
   "codemirror_mode": {
    "name": "ipython",
    "version": 3
   },
   "file_extension": ".py",
   "mimetype": "text/x-python",
   "name": "python",
   "nbconvert_exporter": "python",
   "pygments_lexer": "ipython3",
   "version": "3.13.3"
  }
 },
 "nbformat": 4,
 "nbformat_minor": 5
}
