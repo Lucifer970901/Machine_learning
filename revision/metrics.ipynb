{
 "cells": [
  {
   "cell_type": "markdown",
   "id": "b88300ed",
   "metadata": {},
   "source": [
    "Let's look at different metrics and hyper parameters for model optimization."
   ]
  },
  {
   "cell_type": "code",
   "execution_count": 2,
   "id": "dd0c593b",
   "metadata": {},
   "outputs": [],
   "source": [
    "import numpy as np\n",
    "import pandas as pd\n",
    "import matplotlib.pyplot as plt\n",
    "import seaborn as sns\n",
    "from sklearn.datasets import load_breast_cancer\n",
    "from sklearn.metrics import classification_report, confusion_matrix,make_scorer\n",
    "from sklearn.ensemble import RandomForestClassifier\n",
    "from sklearn.model_selection import GridSearchCV"
   ]
  },
  {
   "cell_type": "markdown",
   "id": "911c2c6d",
   "metadata": {},
   "source": [
    " **make scorer**  - usually refers to creating a custom scoring function that can be used with scikit-learn's model evaluation tools, like cross_val_score, GridSearchCV, or RandomizedSearchCV."
   ]
  },
  {
   "cell_type": "code",
   "execution_count": 4,
   "id": "1ee13341",
   "metadata": {},
   "outputs": [],
   "source": [
    "x,y = load_breast_cancer(return_X_y = True, as_frame = True)"
   ]
  },
  {
   "cell_type": "code",
   "execution_count": 13,
   "id": "b81aed78",
   "metadata": {},
   "outputs": [],
   "source": [
    "y = y.map({0:1, 1:0})"
   ]
  },
  {
   "cell_type": "code",
   "execution_count": 14,
   "id": "cf24775c",
   "metadata": {},
   "outputs": [
    {
     "data": {
      "text/html": [
       "<div>\n",
       "<style scoped>\n",
       "    .dataframe tbody tr th:only-of-type {\n",
       "        vertical-align: middle;\n",
       "    }\n",
       "\n",
       "    .dataframe tbody tr th {\n",
       "        vertical-align: top;\n",
       "    }\n",
       "\n",
       "    .dataframe thead th {\n",
       "        text-align: right;\n",
       "    }\n",
       "</style>\n",
       "<table border=\"1\" class=\"dataframe\">\n",
       "  <thead>\n",
       "    <tr style=\"text-align: right;\">\n",
       "      <th></th>\n",
       "      <th>mean radius</th>\n",
       "      <th>mean texture</th>\n",
       "      <th>mean perimeter</th>\n",
       "      <th>mean area</th>\n",
       "      <th>mean smoothness</th>\n",
       "      <th>mean compactness</th>\n",
       "      <th>mean concavity</th>\n",
       "      <th>mean concave points</th>\n",
       "      <th>mean symmetry</th>\n",
       "      <th>mean fractal dimension</th>\n",
       "      <th>...</th>\n",
       "      <th>worst radius</th>\n",
       "      <th>worst texture</th>\n",
       "      <th>worst perimeter</th>\n",
       "      <th>worst area</th>\n",
       "      <th>worst smoothness</th>\n",
       "      <th>worst compactness</th>\n",
       "      <th>worst concavity</th>\n",
       "      <th>worst concave points</th>\n",
       "      <th>worst symmetry</th>\n",
       "      <th>worst fractal dimension</th>\n",
       "    </tr>\n",
       "  </thead>\n",
       "  <tbody>\n",
       "    <tr>\n",
       "      <th>0</th>\n",
       "      <td>17.99</td>\n",
       "      <td>10.38</td>\n",
       "      <td>122.80</td>\n",
       "      <td>1001.0</td>\n",
       "      <td>0.11840</td>\n",
       "      <td>0.27760</td>\n",
       "      <td>0.3001</td>\n",
       "      <td>0.14710</td>\n",
       "      <td>0.2419</td>\n",
       "      <td>0.07871</td>\n",
       "      <td>...</td>\n",
       "      <td>25.38</td>\n",
       "      <td>17.33</td>\n",
       "      <td>184.60</td>\n",
       "      <td>2019.0</td>\n",
       "      <td>0.1622</td>\n",
       "      <td>0.6656</td>\n",
       "      <td>0.7119</td>\n",
       "      <td>0.2654</td>\n",
       "      <td>0.4601</td>\n",
       "      <td>0.11890</td>\n",
       "    </tr>\n",
       "    <tr>\n",
       "      <th>1</th>\n",
       "      <td>20.57</td>\n",
       "      <td>17.77</td>\n",
       "      <td>132.90</td>\n",
       "      <td>1326.0</td>\n",
       "      <td>0.08474</td>\n",
       "      <td>0.07864</td>\n",
       "      <td>0.0869</td>\n",
       "      <td>0.07017</td>\n",
       "      <td>0.1812</td>\n",
       "      <td>0.05667</td>\n",
       "      <td>...</td>\n",
       "      <td>24.99</td>\n",
       "      <td>23.41</td>\n",
       "      <td>158.80</td>\n",
       "      <td>1956.0</td>\n",
       "      <td>0.1238</td>\n",
       "      <td>0.1866</td>\n",
       "      <td>0.2416</td>\n",
       "      <td>0.1860</td>\n",
       "      <td>0.2750</td>\n",
       "      <td>0.08902</td>\n",
       "    </tr>\n",
       "    <tr>\n",
       "      <th>2</th>\n",
       "      <td>19.69</td>\n",
       "      <td>21.25</td>\n",
       "      <td>130.00</td>\n",
       "      <td>1203.0</td>\n",
       "      <td>0.10960</td>\n",
       "      <td>0.15990</td>\n",
       "      <td>0.1974</td>\n",
       "      <td>0.12790</td>\n",
       "      <td>0.2069</td>\n",
       "      <td>0.05999</td>\n",
       "      <td>...</td>\n",
       "      <td>23.57</td>\n",
       "      <td>25.53</td>\n",
       "      <td>152.50</td>\n",
       "      <td>1709.0</td>\n",
       "      <td>0.1444</td>\n",
       "      <td>0.4245</td>\n",
       "      <td>0.4504</td>\n",
       "      <td>0.2430</td>\n",
       "      <td>0.3613</td>\n",
       "      <td>0.08758</td>\n",
       "    </tr>\n",
       "    <tr>\n",
       "      <th>3</th>\n",
       "      <td>11.42</td>\n",
       "      <td>20.38</td>\n",
       "      <td>77.58</td>\n",
       "      <td>386.1</td>\n",
       "      <td>0.14250</td>\n",
       "      <td>0.28390</td>\n",
       "      <td>0.2414</td>\n",
       "      <td>0.10520</td>\n",
       "      <td>0.2597</td>\n",
       "      <td>0.09744</td>\n",
       "      <td>...</td>\n",
       "      <td>14.91</td>\n",
       "      <td>26.50</td>\n",
       "      <td>98.87</td>\n",
       "      <td>567.7</td>\n",
       "      <td>0.2098</td>\n",
       "      <td>0.8663</td>\n",
       "      <td>0.6869</td>\n",
       "      <td>0.2575</td>\n",
       "      <td>0.6638</td>\n",
       "      <td>0.17300</td>\n",
       "    </tr>\n",
       "    <tr>\n",
       "      <th>4</th>\n",
       "      <td>20.29</td>\n",
       "      <td>14.34</td>\n",
       "      <td>135.10</td>\n",
       "      <td>1297.0</td>\n",
       "      <td>0.10030</td>\n",
       "      <td>0.13280</td>\n",
       "      <td>0.1980</td>\n",
       "      <td>0.10430</td>\n",
       "      <td>0.1809</td>\n",
       "      <td>0.05883</td>\n",
       "      <td>...</td>\n",
       "      <td>22.54</td>\n",
       "      <td>16.67</td>\n",
       "      <td>152.20</td>\n",
       "      <td>1575.0</td>\n",
       "      <td>0.1374</td>\n",
       "      <td>0.2050</td>\n",
       "      <td>0.4000</td>\n",
       "      <td>0.1625</td>\n",
       "      <td>0.2364</td>\n",
       "      <td>0.07678</td>\n",
       "    </tr>\n",
       "  </tbody>\n",
       "</table>\n",
       "<p>5 rows × 30 columns</p>\n",
       "</div>"
      ],
      "text/plain": [
       "   mean radius  mean texture  mean perimeter  mean area  mean smoothness  \\\n",
       "0        17.99         10.38          122.80     1001.0          0.11840   \n",
       "1        20.57         17.77          132.90     1326.0          0.08474   \n",
       "2        19.69         21.25          130.00     1203.0          0.10960   \n",
       "3        11.42         20.38           77.58      386.1          0.14250   \n",
       "4        20.29         14.34          135.10     1297.0          0.10030   \n",
       "\n",
       "   mean compactness  mean concavity  mean concave points  mean symmetry  \\\n",
       "0           0.27760          0.3001              0.14710         0.2419   \n",
       "1           0.07864          0.0869              0.07017         0.1812   \n",
       "2           0.15990          0.1974              0.12790         0.2069   \n",
       "3           0.28390          0.2414              0.10520         0.2597   \n",
       "4           0.13280          0.1980              0.10430         0.1809   \n",
       "\n",
       "   mean fractal dimension  ...  worst radius  worst texture  worst perimeter  \\\n",
       "0                 0.07871  ...         25.38          17.33           184.60   \n",
       "1                 0.05667  ...         24.99          23.41           158.80   \n",
       "2                 0.05999  ...         23.57          25.53           152.50   \n",
       "3                 0.09744  ...         14.91          26.50            98.87   \n",
       "4                 0.05883  ...         22.54          16.67           152.20   \n",
       "\n",
       "   worst area  worst smoothness  worst compactness  worst concavity  \\\n",
       "0      2019.0            0.1622             0.6656           0.7119   \n",
       "1      1956.0            0.1238             0.1866           0.2416   \n",
       "2      1709.0            0.1444             0.4245           0.4504   \n",
       "3       567.7            0.2098             0.8663           0.6869   \n",
       "4      1575.0            0.1374             0.2050           0.4000   \n",
       "\n",
       "   worst concave points  worst symmetry  worst fractal dimension  \n",
       "0                0.2654          0.4601                  0.11890  \n",
       "1                0.1860          0.2750                  0.08902  \n",
       "2                0.2430          0.3613                  0.08758  \n",
       "3                0.2575          0.6638                  0.17300  \n",
       "4                0.1625          0.2364                  0.07678  \n",
       "\n",
       "[5 rows x 30 columns]"
      ]
     },
     "execution_count": 14,
     "metadata": {},
     "output_type": "execute_result"
    }
   ],
   "source": [
    "x.head()"
   ]
  },
  {
   "cell_type": "code",
   "execution_count": 15,
   "id": "1f326aed",
   "metadata": {},
   "outputs": [
    {
     "data": {
      "text/plain": [
       "Index(['mean radius', 'mean texture', 'mean perimeter', 'mean area',\n",
       "       'mean smoothness', 'mean compactness', 'mean concavity',\n",
       "       'mean concave points', 'mean symmetry', 'mean fractal dimension',\n",
       "       'radius error', 'texture error', 'perimeter error', 'area error',\n",
       "       'smoothness error', 'compactness error', 'concavity error',\n",
       "       'concave points error', 'symmetry error', 'fractal dimension error',\n",
       "       'worst radius', 'worst texture', 'worst perimeter', 'worst area',\n",
       "       'worst smoothness', 'worst compactness', 'worst concavity',\n",
       "       'worst concave points', 'worst symmetry', 'worst fractal dimension'],\n",
       "      dtype='object')"
      ]
     },
     "execution_count": 15,
     "metadata": {},
     "output_type": "execute_result"
    }
   ],
   "source": [
    "x.columns"
   ]
  },
  {
   "cell_type": "code",
   "execution_count": 16,
   "id": "cbafe0ed",
   "metadata": {},
   "outputs": [
    {
     "name": "stdout",
     "output_type": "stream",
     "text": [
      "<class 'pandas.core.frame.DataFrame'>\n",
      "RangeIndex: 569 entries, 0 to 568\n",
      "Data columns (total 30 columns):\n",
      " #   Column                   Non-Null Count  Dtype  \n",
      "---  ------                   --------------  -----  \n",
      " 0   mean radius              569 non-null    float64\n",
      " 1   mean texture             569 non-null    float64\n",
      " 2   mean perimeter           569 non-null    float64\n",
      " 3   mean area                569 non-null    float64\n",
      " 4   mean smoothness          569 non-null    float64\n",
      " 5   mean compactness         569 non-null    float64\n",
      " 6   mean concavity           569 non-null    float64\n",
      " 7   mean concave points      569 non-null    float64\n",
      " 8   mean symmetry            569 non-null    float64\n",
      " 9   mean fractal dimension   569 non-null    float64\n",
      " 10  radius error             569 non-null    float64\n",
      " 11  texture error            569 non-null    float64\n",
      " 12  perimeter error          569 non-null    float64\n",
      " 13  area error               569 non-null    float64\n",
      " 14  smoothness error         569 non-null    float64\n",
      " 15  compactness error        569 non-null    float64\n",
      " 16  concavity error          569 non-null    float64\n",
      " 17  concave points error     569 non-null    float64\n",
      " 18  symmetry error           569 non-null    float64\n",
      " 19  fractal dimension error  569 non-null    float64\n",
      " 20  worst radius             569 non-null    float64\n",
      " 21  worst texture            569 non-null    float64\n",
      " 22  worst perimeter          569 non-null    float64\n",
      " 23  worst area               569 non-null    float64\n",
      " 24  worst smoothness         569 non-null    float64\n",
      " 25  worst compactness        569 non-null    float64\n",
      " 26  worst concavity          569 non-null    float64\n",
      " 27  worst concave points     569 non-null    float64\n",
      " 28  worst symmetry           569 non-null    float64\n",
      " 29  worst fractal dimension  569 non-null    float64\n",
      "dtypes: float64(30)\n",
      "memory usage: 133.5 KB\n"
     ]
    }
   ],
   "source": [
    "x.info()"
   ]
  },
  {
   "cell_type": "code",
   "execution_count": 18,
   "id": "87058c2a",
   "metadata": {},
   "outputs": [
    {
     "data": {
      "text/plain": [
       "target\n",
       "0    0.627417\n",
       "1    0.372583\n",
       "Name: count, dtype: float64"
      ]
     },
     "execution_count": 18,
     "metadata": {},
     "output_type": "execute_result"
    }
   ],
   "source": [
    "y.value_counts()/len(y)"
   ]
  },
  {
   "cell_type": "markdown",
   "id": "d9bb52c6",
   "metadata": {},
   "source": [
    "here it shows the target value distributions."
   ]
  },
  {
   "cell_type": "markdown",
   "id": "e60bedb4",
   "metadata": {},
   "source": [
    "let's find FNR (false negative rate) seperately as It's a crucial metric in evaluating classification models, especially when the cost of missing a \"positive\" case is high."
   ]
  },
  {
   "cell_type": "code",
   "execution_count": 52,
   "id": "0568e5c5",
   "metadata": {},
   "outputs": [],
   "source": [
    "def fnr(y_true,y_pred):\n",
    "    tn,tp,fn,fp = confusion_matrix(y_true,y_pred,labels = [0,1]).ravel() # converts the result to 1d array\n",
    "    FNR = fn/(tp+fn)\n",
    "    return FNR"
   ]
  },
  {
   "cell_type": "code",
   "execution_count": 53,
   "id": "8962fe8b",
   "metadata": {},
   "outputs": [],
   "source": [
    "fnr_score = make_scorer(fnr, greater_is_better = False,response_method = 'predict')# lower FNR values are better"
   ]
  },
  {
   "cell_type": "markdown",
   "id": "586007a4",
   "metadata": {},
   "source": [
    "**make_scorer(...)**: This function from sklearn.metrics converts your custom fnr function into a \"scorer\" object that GridSearchCV (and other scikit-learn tools) can use.\n",
    "\n",
    "**response_method = 'predict'**: This tells make_scorer how the model should generate its predictions for the scoring function. For classification metrics like FNR (which needs discrete class labels), the model's predict() method (which returns 0s or 1s) is appropriate."
   ]
  },
  {
   "cell_type": "code",
   "execution_count": 54,
   "id": "29dcf6e7",
   "metadata": {},
   "outputs": [],
   "source": [
    "rf_model = RandomForestClassifier(n_estimators=100,max_depth = 1, random_state=0,n_jobs =4) #n_jobs = use 4 cpu core."
   ]
  },
  {
   "cell_type": "code",
   "execution_count": 55,
   "id": "4d3bd38f",
   "metadata": {},
   "outputs": [],
   "source": [
    "rf_param_grid = dict(n_estimators=[10,20,50,100,200,500,1000,2000],max_depth = [1,2,3,4])"
   ]
  },
  {
   "cell_type": "markdown",
   "id": "53558322",
   "metadata": {},
   "source": [
    "This creates a dictionary specifying the ranges of hyperparameters that GridSearchCV will test for your 'rf_model'. GridSearchCV will test every possible combination of these values (8 * 4 = 32 combinations)."
   ]
  },
  {
   "cell_type": "code",
   "execution_count": 56,
   "id": "650be15e",
   "metadata": {},
   "outputs": [],
   "source": [
    "clf = GridSearchCV(rf_model, rf_param_grid, scoring=fnr_score, cv=5) #tests all hyperparamter and finds one with lowest fnr"
   ]
  },
  {
   "cell_type": "markdown",
   "id": "1a4a08df",
   "metadata": {},
   "source": [
    "**clf = GridSearchCV(...)**: This initializes the GridSearchCV object.\n",
    "\n",
    "**rf_model**: The machine learning model you want to tune.\n",
    "\n",
    "**rf_param_grid**: The dictionary defining the hyperparameters and their values to test.\n",
    "\n",
    "**scoring=fnr_score**: This is the crucial part. It tells GridSearchCV to use your custom fnr_score (which aims to minimize FNR) as the metric to evaluate model performance during the search.\n",
    "\n",
    "**cv=5**: This specifies that 5-fold cross-validation should be used. For each combination of hyperparameters, the training data (x, y) will be split into 5 folds, and the model will be trained on 4 folds and tested on the remaining 1 fold, repeating this 5 times. The FNR score for each combination will be the average across these 5 runs."
   ]
  },
  {
   "cell_type": "code",
   "execution_count": 57,
   "id": "325532c4",
   "metadata": {},
   "outputs": [],
   "source": [
    "search = clf.fit(x,y)"
   ]
  },
  {
   "cell_type": "markdown",
   "id": "2513a3db",
   "metadata": {},
   "source": [
    "This command starts the actual grid search process. It iterates through all combinations in rf_param_grid, trains and evaluates an rf_model for each using 5-fold cross-validation, and keeps track of which combination yields the best (lowest, in this case) FNR score."
   ]
  },
  {
   "cell_type": "code",
   "execution_count": 58,
   "id": "9256591d",
   "metadata": {},
   "outputs": [
    {
     "data": {
      "text/plain": [
       "{'max_depth': 3, 'n_estimators': 1000}"
      ]
     },
     "execution_count": 58,
     "metadata": {},
     "output_type": "execute_result"
    }
   ],
   "source": [
    "search.best_params_"
   ]
  },
  {
   "cell_type": "markdown",
   "id": "d6075550",
   "metadata": {},
   "source": [
    "After clf.fit(x,y) completes, search.best_params_ will be a dictionary containing the specific n_estimators and max_depth values that resulted in the lowest False Negative Rate during the cross-validation process."
   ]
  },
  {
   "cell_type": "code",
   "execution_count": 59,
   "id": "87136204",
   "metadata": {},
   "outputs": [],
   "source": [
    "# Select multiple columns by passing a list of column names\n",
    "results = pd.DataFrame(search.cv_results_)[['params','mean_test_score','std_test_score']]"
   ]
  },
  {
   "cell_type": "markdown",
   "id": "71f2385c",
   "metadata": {},
   "source": [
    "**search.cv_results_**: After you run **clf.fit(x,y)** (which you stored in **search**), the search object (your fitted GridSearchCV instance) contains an attribute called **cv_results_**. This is a dictionary that holds detailed results for every single hyperparameter combination that GridSearchCV evaluated during its cross-validation process. It includes information like training scores, test scores, fit times, score times, and the parameters used for each run."
   ]
  },
  {
   "cell_type": "code",
   "execution_count": 60,
   "id": "d4774567",
   "metadata": {},
   "outputs": [],
   "source": [
    "results.sort_values(by = 'mean_test_score', ascending = False, inplace = True)"
   ]
  },
  {
   "cell_type": "code",
   "execution_count": 61,
   "id": "fcc6b68c",
   "metadata": {},
   "outputs": [],
   "source": [
    "results.reset_index(drop = True, inplace = True)"
   ]
  },
  {
   "cell_type": "markdown",
   "id": "ecf03c46",
   "metadata": {},
   "source": [
    "After sorting, the DataFrame's index will be scattered (e.g., if row 5 became the new row 0, its index would still be 5).\n",
    "\n",
    "**reset_index()**: This method resets the DataFrame's index to a default integer index (0, 1, 2, ...).\n",
    "\n",
    "**drop = True**: This is important! It prevents the old, jumbled index from being added as a new column in your DataFrame."
   ]
  },
  {
   "cell_type": "code",
   "execution_count": 62,
   "id": "d190ac88",
   "metadata": {},
   "outputs": [
    {
     "data": {
      "text/plain": [
       "array([<Axes: >], dtype=object)"
      ]
     },
     "execution_count": 62,
     "metadata": {},
     "output_type": "execute_result"
    },
    {
     "data": {
      "image/png": "[encoded data removed]",
      "text/plain": [
       "<Figure size 640x480 with 1 Axes>"
      ]
     },
     "metadata": {},
     "output_type": "display_data"
    }
   ],
   "source": [
    "results['mean_test_score'].plot(yerr = [results['std_test_score'],results['std_test_score']],subplots =True)"
   ]
  },
  {
   "cell_type": "markdown",
   "id": "faa440bb",
   "metadata": {},
   "source": [
    "**results['mean_test_score'].plot(...)**: This line generates a plot using the mean_test_score column. By default, it will plot the scores against their new sequential index (0, 1, 2,...), representing each tested hyperparameter combination.\n",
    "\n",
    "**yerr = [results['std_test_score'], results['std_test_score']]**: This adds error bars to your plot. The error bars will extend one standard deviation (std_test_score) above and one standard deviation below each mean_test_score point.\n",
    "\n",
    "It visually represents the variability or consistency of the model's performance across the 5 cross-validation folds for each hyperparameter set. A smaller error bar means the model was more consistent; a larger one means its performance varied more across different data splits."
   ]
  },
  {
   "cell_type": "code",
   "execution_count": null,
   "id": "6ae1ae3a",
   "metadata": {},
   "outputs": [],
   "source": []
  }
 ],
 "metadata": {
  "kernelspec": {
   "display_name": "Python 3",
   "language": "python",
   "name": "python3"
  },
  "language_info": {
   "codemirror_mode": {
    "name": "ipython",
    "version": 3
   },
   "file_extension": ".py",
   "mimetype": "text/x-python",
   "name": "python",
   "nbconvert_exporter": "python",
   "pygments_lexer": "ipython3",
   "version": "3.11.9"
  }
 },
 "nbformat": 4,
 "nbformat_minor": 5
}
